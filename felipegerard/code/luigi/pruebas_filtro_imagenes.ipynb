{
 "cells": [
  {
   "cell_type": "code",
   "execution_count": 1,
   "metadata": {
    "collapsed": true
   },
   "outputs": [],
   "source": [
    "from scipy import misc\n",
    "from matplotlib import pyplot as plt\n",
    "%matplotlib inline"
   ]
  },
  {
   "cell_type": "code",
   "execution_count": 54,
   "metadata": {
    "collapsed": false
   },
   "outputs": [
    {
     "name": "stdout",
     "output_type": "stream",
     "text": [
      "test/jpg/revue_des_peintres/rdp-int_00000005.jpg\n"
     ]
    }
   ],
   "source": [
    "def rgb2gray(rgb):\n",
    "\t\"\"\"\n",
    "\tConvertir imagenes en escala de grises\n",
    "\t\"\"\"\n",
    "\tr, g, b = rgb[:,:,0], rgb[:,:,1], rgb[:,:,2]\n",
    "\tgray = 0.2989 * r + 0.5870 * g + 0.1140 * b\n",
    "\treturn gray\n",
    "\t\n",
    "#vitral 05,07,09,24 # La 24 esta corrupta\n",
    "# revue_des_peintres 05(img), 06(txt)\n",
    "num = '05'\n",
    "ruta_jpg = 'test/jpg/revue_des_peintres/rdp-int_000000%s.jpg' % num\n",
    "print ruta_jpg\n",
    "pagina = misc.imread(ruta_jpg, flatten=True).flatten()\n",
    "#pagina = rgb2gray(pagina)\n",
    "#pagina = (pagina - pagina.mean())/pagina.std()"
   ]
  },
  {
   "cell_type": "code",
   "execution_count": 55,
   "metadata": {
    "collapsed": false
   },
   "outputs": [
    {
     "data": {
      "image/png": "[encoded data removed]",
      "text/plain": [
       "<matplotlib.figure.Figure at 0x13fcc7c10>"
      ]
     },
     "metadata": {},
     "output_type": "display_data"
    }
   ],
   "source": [
    "h = plt.hist(pagina.flatten(), bins=30, normed=True)"
   ]
  },
  {
   "cell_type": "code",
   "execution_count": null,
   "metadata": {
    "collapsed": true
   },
   "outputs": [],
   "source": []
  }
 ],
 "metadata": {
  "kernelspec": {
   "display_name": "Python 2",
   "language": "python",
   "name": "python2"
  },
  "language_info": {
   "codemirror_mode": {
    "name": "ipython",
    "version": 2
   },
   "file_extension": ".py",
   "mimetype": "text/x-python",
   "name": "python",
   "nbconvert_exporter": "python",
   "pygments_lexer": "ipython2",
   "version": "2.7.9"
  }
 },
 "nbformat": 4,
 "nbformat_minor": 0
}
